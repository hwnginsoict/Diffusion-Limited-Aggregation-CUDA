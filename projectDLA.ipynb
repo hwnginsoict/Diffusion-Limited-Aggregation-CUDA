{
  "cells": [
    {
      "cell_type": "code",
      "execution_count": null,
      "metadata": {
        "id": "wj4yj-0KGszq"
      },
      "outputs": [],
      "source": [
        "import numpy as np\n",
        "import matplotlib.pyplot as plt\n",
        "\n",
        "def plot_map(file_name):\n",
        "    # Load data from file\n",
        "    data = np.loadtxt(file_name, dtype=int)\n",
        "\n",
        "    # Reshape data to a 2D array\n",
        "\n",
        "    # Plot data\n",
        "    plt.imshow(data, cmap='viridis', interpolation='nearest')\n",
        "    plt.colorbar(label='Crystallized Particles')\n",
        "    plt.title('Particle Crystallization')\n",
        "    plt.xlabel('X')\n",
        "    plt.ylabel('Y')\n",
        "    plt.show()"
      ]
    },
    {
      "cell_type": "code",
      "source": [
        "%%writefile projectCUDA1.cu\n",
        "#include <iostream>\n",
        "#include <sys/time.h>\n",
        "#include <cstdlib>\n",
        "#include <cstdio>\n",
        "#include <cuda_runtime.h>\n",
        "\n",
        "__device__ int width;\n",
        "__device__ int height;\n",
        "__device__ int* map;\n",
        "\n",
        "int cwidth;\n",
        "int cheight;\n",
        "int* cmap;\n",
        "\n",
        "double cpuSecond() {\n",
        "    struct timeval tp;\n",
        "    gettimeofday(&tp, NULL);\n",
        "    return ((double)tp.tv_sec + (double)tp.tv_usec * 1.e-6);\n",
        "}\n",
        "\n",
        "typedef struct {\n",
        "    int x;\n",
        "    int y;\n",
        "    int state;\n",
        "    uint seed;\n",
        "} Point;\n",
        "\n",
        "__device__ float random_number(int seed){\n",
        "    int x = seed;\n",
        "    int m = 65537;\n",
        "    int a = 75;\n",
        "    int k = 10;\n",
        "    for(int i=0; i<k; i++){\n",
        "      x = (a*x)%m;\n",
        "    }\n",
        "    float ans = (float)x/(float)m;\n",
        "    return ans;\n",
        "}\n",
        "\n",
        "__global__ void init_particles(Point* points, int number) {\n",
        "    int i = blockIdx.x * blockDim.x + threadIdx.x;\n",
        "    if (i < number) {\n",
        "        Point p;\n",
        "        p.state = 0;\n",
        "        p.x = (int)(random_number(i)*width);\n",
        "        p.y = (int)(random_number((int)(random_number(i)*65537))*height);\n",
        "        p.seed = i;\n",
        "        points[i] = p;\n",
        "    }\n",
        "}\n",
        "\n",
        "__device__ void move(Point& p) {\n",
        "    p.seed = (int)(random_number(p.seed)*65537);\n",
        "    int mov = p.seed % 4;\n",
        "    if (mov == 0) {\n",
        "        p.x += 1;\n",
        "    } else if (mov == 1) {\n",
        "        p.x -= 1;\n",
        "    } else if (mov == 2) {\n",
        "        p.y += 1;\n",
        "    } else {\n",
        "        p.y -= 1;\n",
        "    }\n",
        "\n",
        "    // condition\n",
        "    if (p.x >= width) {\n",
        "        p.x = 0;\n",
        "    } else if (p.x < 0) {\n",
        "        p.x = width - 1;\n",
        "    }\n",
        "\n",
        "    if (p.y >= height) {\n",
        "        p.y = 0;\n",
        "    } else if (p.y < 0) {\n",
        "        p.y = height - 1;\n",
        "    }\n",
        "}\n",
        "\n",
        "__device__ int check_occupied(int x, int y) {\n",
        "    for (int x1 = -1; x1 <= 1; x1++) {\n",
        "        for (int y1 = -1; y1 <= 1; y1++) {\n",
        "            if (y1 == 0 && x1 == 0) continue;\n",
        "            if (x1 + x < 0 || x1 + x >= width) continue;\n",
        "            if (y1 + y < 0 || y1 + y >= height) continue;\n",
        "            int j = ((y + y1) * width) + (x + x1);\n",
        "            if (map[j] > 0) {\n",
        "                return 1;\n",
        "            }\n",
        "        }\n",
        "    }\n",
        "    return 0;\n",
        "}\n",
        "\n",
        "__device__ void occupy(Point& p) {\n",
        "    p.state = 1;\n",
        "    int i = p.y * width + p.x;\n",
        "    map[i] = 1;\n",
        "}\n",
        "\n",
        "__global__ void fill(Point* points, int number, int* changed) {\n",
        "    int i = blockIdx.x * blockDim.x + threadIdx.x;\n",
        "    if (i < number) {\n",
        "        Point p = points[i];\n",
        "        if (p.state == 1) return;\n",
        "        if (check_occupied(p.x, p.y)) {\n",
        "            points[i].state = 1;\n",
        "            int idx = p.y * width + p.x;\n",
        "            map[idx] = 1;\n",
        "            *changed = 1; // Indicate that a change was made\n",
        "        }\n",
        "    }\n",
        "}\n",
        "\n",
        "__global__ void move_particles(Point* points, int number) {\n",
        "    int i = blockIdx.x * blockDim.x + threadIdx.x;\n",
        "    if (i < number) {\n",
        "        if (points[i].state == 0) {\n",
        "            move(points[i]);\n",
        "        }\n",
        "    }\n",
        "}\n",
        "\n",
        "void save_map(const char* file_name, int* map, int width, int height) {\n",
        "    FILE* fp = fopen(file_name, \"w\");\n",
        "    if (fp == NULL) {\n",
        "        printf(\"Error opening the file %s\\n\", file_name);\n",
        "        return;\n",
        "    }\n",
        "    for (int i = 0; i < width * height; i++) {\n",
        "        if (i % width == 0) {\n",
        "            fprintf(fp, \"\\n\");\n",
        "        }\n",
        "        fprintf(fp, \"%d \", map[i]);\n",
        "    }\n",
        "    fclose(fp);\n",
        "}\n",
        "\n",
        "int main() {\n",
        "    cwidth = 200;\n",
        "    cheight = 200;\n",
        "    int number = 3000;\n",
        "    int steps = 10000;\n",
        "    int sx = 100;\n",
        "    int sy = 100;\n",
        "    int si = sy * cwidth + sx;\n",
        "\n",
        "    double iStart = cpuSecond();\n",
        "\n",
        "    cmap = (int*)malloc(sizeof(int) * cwidth * cheight);\n",
        "    cudaMemcpyToSymbol(width, &cwidth, sizeof(int));\n",
        "    cudaMemcpyToSymbol(height, &cheight, sizeof(int));\n",
        "    int* d_map;\n",
        "    cudaMalloc(&d_map, sizeof(int) * cwidth * cheight);\n",
        "    cudaMemcpyToSymbol(map, &d_map, sizeof(int*));\n",
        "    cudaMemcpy(d_map, cmap, sizeof(int) * cwidth * cheight, cudaMemcpyHostToDevice);\n",
        "\n",
        "    Point* points;\n",
        "    cudaMalloc(&points, sizeof(Point) * number);\n",
        "\n",
        "    const int base = 1;\n",
        "    int init_threads = base;\n",
        "    int init_blocks = (number + base - 1) / base;\n",
        "    if (number < base) {\n",
        "        init_threads = number;\n",
        "        init_blocks = 1;\n",
        "    }\n",
        "    init_particles<<<init_blocks, init_threads>>>(points, number);\n",
        "    cudaDeviceSynchronize();\n",
        "\n",
        "    printf(\"Initialization time: %.3f milliseconds\\n\", 1000 * (cpuSecond() - iStart));\n",
        "    double sStart = cpuSecond();\n",
        "\n",
        "    // Initialize starting point on device\n",
        "    int initial_value = 1;\n",
        "    cudaMemcpy(&d_map[si], &initial_value, sizeof(int), cudaMemcpyHostToDevice);\n",
        "\n",
        "    int* d_changed;\n",
        "    cudaMalloc(&d_changed, sizeof(int));\n",
        "\n",
        "    for (int i = 0; i < steps; i++) {\n",
        "        int changed;\n",
        "        do {\n",
        "            changed = 0;\n",
        "            cudaMemcpy(d_changed, &changed, sizeof(int), cudaMemcpyHostToDevice);\n",
        "\n",
        "            fill<<<init_blocks, init_threads>>>(points, number, d_changed);\n",
        "            cudaDeviceSynchronize();\n",
        "\n",
        "            cudaMemcpy(&changed, d_changed, sizeof(int), cudaMemcpyDeviceToHost);\n",
        "        } while (changed);\n",
        "\n",
        "        move_particles<<<init_blocks, init_threads>>>(points, number);\n",
        "        cudaDeviceSynchronize();\n",
        "    }\n",
        "\n",
        "    printf(\"Simulation time: %.3f milliseconds\\n\", 1000 * (cpuSecond() - sStart));\n",
        "\n",
        "    cudaMemcpy(cmap, d_map, sizeof(int) * cwidth * cheight, cudaMemcpyDeviceToHost);\n",
        "\n",
        "    save_map(\"output_map.txt\", cmap, cwidth, cheight);\n",
        "    free(cmap);\n",
        "    cudaFree(d_map);\n",
        "    cudaFree(points);\n",
        "    cudaFree(d_changed);\n",
        "    return 0;\n",
        "}"
      ],
      "metadata": {
        "id": "rtj-beLskIfx",
        "colab": {
          "base_uri": "https://localhost:8080/"
        },
        "outputId": "838f5166-8525-4241-995a-45c7f76c78ab"
      },
      "execution_count": null,
      "outputs": [
        {
          "output_type": "stream",
          "name": "stdout",
          "text": [
            "Overwriting projectCUDA1.cu\n"
          ]
        }
      ]
    },
    {
      "cell_type": "code",
      "source": [
        "!nvcc projectCUDA1.cu -o projectCUDA1\n",
        "!./projectCUDA1"
      ],
      "metadata": {
        "colab": {
          "base_uri": "https://localhost:8080/"
        },
        "id": "9DO_SNRqfwBH",
        "outputId": "eccb53a3-f5f4-4abc-be69-efb1f0b48813"
      },
      "execution_count": null,
      "outputs": [
        {
          "output_type": "stream",
          "name": "stdout",
          "text": [
            "Initialization time: 105.301 milliseconds\n",
            "Simulation time: 508.627 milliseconds\n"
          ]
        }
      ]
    },
    {
      "cell_type": "code",
      "source": [
        "plot_map(\"output_map.txt\")"
      ],
      "metadata": {
        "colab": {
          "base_uri": "https://localhost:8080/",
          "height": 472
        },
        "id": "Sujf4Svff2zk",
        "outputId": "831666e1-f045-4f94-c40f-1907012af75b"
      },
      "execution_count": null,
      "outputs": [
        {
          "output_type": "display_data",
          "data": {
            "text/plain": [
              "<Figure size 640x480 with 2 Axes>"
            ],
            "image/png": "[encoded data removed]"
          },
          "metadata": {}
        }
      ]
    },
    {
      "cell_type": "code",
      "source": [
        "%%writefile projectCUDA.c\n",
        "\n",
        "#include <iostream>\n",
        "#include <sys/time.h>\n",
        "#include <cstdlib>\n",
        "#include <cstdio>\n",
        "\n",
        "int width;\n",
        "int height;\n",
        "int* map;\n",
        "\n",
        "double cpuSecond() {\n",
        "    struct timeval tp;\n",
        "    gettimeofday(&tp, NULL);\n",
        "    return ((double)tp.tv_sec + (double)tp.tv_usec * 1.e-6);\n",
        "}\n",
        "\n",
        "typedef struct {\n",
        "    int x;\n",
        "    int y;\n",
        "    int state;\n",
        "    uint seed;\n",
        "} Point;\n",
        "\n",
        "float random_number(int seed){\n",
        "  int x = seed;\n",
        "  int m = 65537;\n",
        "  int a = 75;\n",
        "  int k = 10;\n",
        "  for(int i=0; i<k; i++){\n",
        "    x = (a*x)%m;\n",
        "  }\n",
        "  float ans = (float)x/(float)m;\n",
        "  return ans;\n",
        "}\n",
        "\n",
        "void initialize(Point* points, int number) {\n",
        "    for (int i = 0; i < number; i++) {\n",
        "        Point p;\n",
        "        p.state = 0;\n",
        "        p.x = (int)(random_number(i)*width);\n",
        "        p.y = (int)(random_number((int)(random_number(i)*65537))*height);\n",
        "        p.seed = i;\n",
        "        points[i] = p;\n",
        "    }\n",
        "}\n",
        "\n",
        "void move(Point &p) {\n",
        "    p.seed = (int)(random_number(p.seed)*65537);\n",
        "    int mov = p.seed % 4;\n",
        "    if (mov == 0) {\n",
        "        p.x += 1;\n",
        "    } else if (mov == 1) {\n",
        "        p.x -= 1;\n",
        "    } else if (mov == 2) {\n",
        "        p.y += 1;\n",
        "    } else {\n",
        "        p.y -= 1;\n",
        "    }\n",
        "\n",
        "    // condition\n",
        "    if (p.x >= width) {\n",
        "        p.x = 0;\n",
        "    } else if (p.x < 0) {\n",
        "        p.x = width - 1;\n",
        "    }\n",
        "\n",
        "    if (p.y >= height) {\n",
        "        p.y = 0;\n",
        "    } else if (p.y < 0) {\n",
        "        p.y = height - 1;\n",
        "    }\n",
        "}\n",
        "\n",
        "int check_occupied(int x, int y) {\n",
        "    for (int x1 = -1; x1 <= 1; x1++) {\n",
        "        for (int y1 = -1; y1 <= 1; y1++) {\n",
        "            if (y1 == 0 && x1 == 0) continue;\n",
        "            if (x1 + x < 0 || x1 + x >= width) continue;\n",
        "            if (y1 + y < 0 || y1 + y >= height) continue;\n",
        "            int j = ((y + y1) * width) + (x + x1);\n",
        "            if (map[j] > 0) {\n",
        "                return 1;\n",
        "            }\n",
        "        }\n",
        "    }\n",
        "    return 0;\n",
        "}\n",
        "\n",
        "void occupy(Point &p) {\n",
        "    p.state = 1;\n",
        "    int i = p.y * width + p.x;\n",
        "    map[i] = 1;\n",
        "}\n",
        "\n",
        "void fill(Point* points, int number) {\n",
        "    int changed;\n",
        "    do {\n",
        "        changed = 0;\n",
        "        for (int i = 0; i < number; i++) {\n",
        "            Point p = points[i];\n",
        "            if (p.state == 1) continue;\n",
        "            if (check_occupied(p.x, p.y)) {\n",
        "                points[i].state = 1;\n",
        "                int idx = p.y * width + p.x;\n",
        "                map[idx] = 1;\n",
        "                changed = 1;\n",
        "            }\n",
        "        }\n",
        "    } while (changed);\n",
        "}\n",
        "\n",
        "void move_particles(Point* points, int number) {\n",
        "    for (int i = 0; i < number; i++) {\n",
        "        if (points[i].state == 0) {\n",
        "            move(points[i]);\n",
        "        }\n",
        "    }\n",
        "}\n",
        "\n",
        "void save_map(const char* file_name, int* map, int width, int height) {\n",
        "    FILE *fp = fopen(file_name, \"w\");\n",
        "    if (fp == NULL) {\n",
        "        printf(\"Error opening the file %s\\n\", file_name);\n",
        "        return;\n",
        "    }\n",
        "    for (int i = 0; i < width * height; i++) {\n",
        "        if (i % width == 0) {\n",
        "            fprintf(fp, \"\\n\");\n",
        "        }\n",
        "        fprintf(fp, \"%d \", map[i]);\n",
        "    }\n",
        "    fclose(fp);\n",
        "}\n",
        "\n",
        "int main() {\n",
        "    width = 200;\n",
        "    height = 200;\n",
        "    int number = 3000;\n",
        "    int steps = 10000;\n",
        "    int sx = 100;\n",
        "    int sy = 100;\n",
        "    int si = sy * width + sx;\n",
        "\n",
        "    double iStart = cpuSecond();\n",
        "\n",
        "    map = (int*)malloc(sizeof(int) * width * height);\n",
        "\n",
        "    Point* points = (Point*)malloc(sizeof(Point) * number);\n",
        "    initialize(points, number);\n",
        "\n",
        "    printf(\"Initialization time: %.3f milliseconds\\n\", 1000 * (cpuSecond() - iStart));\n",
        "    double sStart = cpuSecond();\n",
        "\n",
        "    map[si] = 1;\n",
        "\n",
        "    for (int i = 0; i < steps; i++) {\n",
        "        fill(points, number);\n",
        "        move_particles(points, number);\n",
        "    }\n",
        "\n",
        "    printf(\"Simulation time: %.3f milliseconds\\n\", 1000 * (cpuSecond() - sStart));\n",
        "\n",
        "    save_map(\"output_map1.txt\", map, width, height);\n",
        "    free(map);\n",
        "    free(points);\n",
        "    return 0;\n",
        "}"
      ],
      "metadata": {
        "id": "w0qkqTcFlBkv",
        "colab": {
          "base_uri": "https://localhost:8080/"
        },
        "outputId": "40dcf0ff-0a06-4251-b370-3d21cdbe29d5"
      },
      "execution_count": null,
      "outputs": [
        {
          "output_type": "stream",
          "name": "stdout",
          "text": [
            "Overwriting projectCUDA.c\n"
          ]
        }
      ]
    },
    {
      "cell_type": "code",
      "source": [
        "!g++ projectCUDA.c -o projectCUDA\n",
        "!./projectCUDA"
      ],
      "metadata": {
        "id": "rj08K5bzqXE-",
        "colab": {
          "base_uri": "https://localhost:8080/"
        },
        "outputId": "ea28c0a1-828d-4b7f-b3f8-ccfe035b8d2d"
      },
      "execution_count": null,
      "outputs": [
        {
          "output_type": "stream",
          "name": "stdout",
          "text": [
            "Initialization time: 1.292 milliseconds\n",
            "Simulation time: 2165.490 milliseconds\n"
          ]
        }
      ]
    },
    {
      "cell_type": "code",
      "source": [
        "plot_map(\"output_map1.txt\")"
      ],
      "metadata": {
        "id": "_Q6FNKEqqd3G",
        "colab": {
          "base_uri": "https://localhost:8080/",
          "height": 472
        },
        "outputId": "e2262175-5d1b-4f9e-d787-b8e3ce09bdfe"
      },
      "execution_count": null,
      "outputs": [
        {
          "output_type": "display_data",
          "data": {
            "text/plain": [
              "<Figure size 640x480 with 2 Axes>"
            ],
            "image/png": "[encoded data removed]"
          },
          "metadata": {}
        }
      ]
    },
    {
      "cell_type": "code",
      "source": [
        "def compare_files(file1, file2):\n",
        "    with open(file1, 'r') as f1, open(file2, 'r') as f2:\n",
        "        lines1 = f1.readlines()\n",
        "        lines2 = f2.readlines()\n",
        "\n",
        "        if len(lines1) != len(lines2):\n",
        "            print(\"Files have different number of lines.\")\n",
        "            return False\n",
        "\n",
        "        for i, (line1, line2) in enumerate(zip(lines1, lines2)):\n",
        "            if line1 != line2:\n",
        "                print(f\"Difference found on line {i + 1}:\")\n",
        "                print(f\"File1: {line1.strip()}\")\n",
        "                print(f\"File2: {line2.strip()}\")\n",
        "                return False\n",
        "\n",
        "    print(\"Files are identical.\")\n",
        "    return True\n",
        "\n",
        "# Example usage:\n",
        "file1 = \"output_map.txt\"\n",
        "file2 = \"output_map1.txt\"\n",
        "compare_files(file1, file2)\n"
      ],
      "metadata": {
        "colab": {
          "base_uri": "https://localhost:8080/"
        },
        "id": "ad29_ZiRpC3D",
        "outputId": "6582d031-c5cc-43b2-82d4-50b3ee20fd60"
      },
      "execution_count": null,
      "outputs": [
        {
          "output_type": "stream",
          "name": "stdout",
          "text": [
            "Files are identical.\n"
          ]
        },
        {
          "output_type": "execute_result",
          "data": {
            "text/plain": [
              "True"
            ]
          },
          "metadata": {},
          "execution_count": 32
        }
      ]
    },
    {
      "cell_type": "code",
      "source": [],
      "metadata": {
        "id": "MYwGkwvxpUQy"
      },
      "execution_count": null,
      "outputs": []
    }
  ],
  "metadata": {
    "accelerator": "GPU",
    "colab": {
      "gpuType": "T4",
      "provenance": []
    },
    "kernelspec": {
      "display_name": "Python 3",
      "name": "python3"
    },
    "language_info": {
      "name": "python"
    }
  },
  "nbformat": 4,
  "nbformat_minor": 0
}